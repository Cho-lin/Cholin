version https://git-lfs.github.com/spec/v1
oid sha256:326cf46d62e578e0d0d84a6c009772a5fcc37fb6cc3f636c64cb6c387426ceae
size 2613344
