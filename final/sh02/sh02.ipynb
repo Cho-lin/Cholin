version https://git-lfs.github.com/spec/v1
oid sha256:61ae91238068233e3a28146ecb0f161d0a54f3f4e10e9b4db1de744852b3a6c2
size 2611775
