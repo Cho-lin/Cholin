{
 "cells": [
  {
   "cell_type": "markdown",
   "id": "c50691a7-9ad2-4677-92e2-2e4a77f5a2e3",
   "metadata": {},
   "source": [
    "Exercise 02"
   ]
  },
  {
   "cell_type": "markdown",
   "id": "532e4825-6734-4f32-bf3a-d2c768f4f081",
   "metadata": {},
   "source": [
    "1 Normalization in LGN"
   ]
  },
  {
   "cell_type": "code",
   "execution_count": null,
   "id": "9b00e1b1-ed7d-40e5-b674-13de5ad1fcc0",
   "metadata": {},
   "outputs": [],
   "source": []
  }
 ],
 "metadata": {
  "kernelspec": {
   "display_name": "Julia 1.7.2",
   "language": "julia",
   "name": "julia-1.7"
  },
  "language_info": {
   "file_extension": ".jl",
   "mimetype": "application/julia",
   "name": "julia",
   "version": "1.7.2"
  }
 },
 "nbformat": 4,
 "nbformat_minor": 5
}
